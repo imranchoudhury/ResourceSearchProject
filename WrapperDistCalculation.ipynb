{
 "cells": [
  {
   "cell_type": "code",
   "execution_count": 1,
   "metadata": {
    "collapsed": false
   },
   "outputs": [
    {
     "data": {
      "text/plain": [
       "<module 'UninformedSearchWithDB' from '/Users/thomasdutta/Documents/CourseProjects/CS581/PythonProj/UninformedSearchWithDB.py'>"
      ]
     },
     "execution_count": 1,
     "metadata": {},
     "output_type": "execute_result"
    }
   ],
   "source": [
    "import UninformedSearchWithDB as UDB\n",
    "import importlib\n",
    "import csv\n",
    "importlib.reload(UDB)"
   ]
  },
  {
   "cell_type": "code",
   "execution_count": null,
   "metadata": {
    "collapsed": false
   },
   "outputs": [
    {
     "name": "stdout",
     "output_type": "stream",
     "text": [
      "Timestamp, Source node_name, Source node_id, Source lat, Source long, Destination block_id, Time, No of iteration\n"
     ]
    }
   ],
   "source": [
    "#Open a file\n",
    "writer = open(\"output.csv\",\"w\")\n",
    "print (\"Timestamp, Source node_name, Source node_id, Source lat, Source long, Destination block_id, Time, No of iteration\")\n",
    "#Get a database connection\n",
    "cnx = UDB.connectToMySQL(userName='admin',password='rootpassword',DBName='ParkingProject')\n",
    "cursor = cnx.cursor()\n",
    "\n",
    "#Create a list of date timestamps [Should be 4, verify with rajan and sreejith]\n",
    "datetimestampList = ['2012-05-05 23:40:13','2012-05-05 23:40:13']\n",
    "\n",
    "#For each date stamps create the matrix\n",
    "for datetimestamp in datetimestampList:\n",
    "    #Get the list of node ids from the database\n",
    "    query = (\"SELECT DISTINCT node_name,node_id,latitude,longitude FROM ParkingProject.nodes order by node_id limit 1;\")\n",
    "    cursor.execute(query)\n",
    "    IntersectionList = []\n",
    "    for node_name,node_id,latitude,longitude in cursor:\n",
    "        result = UDB.parkingSearch(latitude, longitude, datetimestamp)\n",
    "        row_data = \",\".join([str(datetimestamp), str(node_name), str(node_id), str(latitude), str(longitude), \n",
    "                             str(result[0]), str(result[1]), str(len(result[2]) + 1)])\n",
    "        print (row_data)\n",
    "        writer.write(row_data)\n",
    "        writer.write(\"\\n\")\n",
    "    #Create a separator for new date time\n",
    "    writer.write(\"\\n\")\n",
    "\n",
    "#Close connection\n",
    "writer.close()\n",
    "        "
   ]
  },
  {
   "cell_type": "code",
   "execution_count": null,
   "metadata": {
    "collapsed": true
   },
   "outputs": [],
   "source": []
  },
  {
   "cell_type": "code",
   "execution_count": null,
   "metadata": {
    "collapsed": true
   },
   "outputs": [],
   "source": []
  }
 ],
 "metadata": {
  "kernelspec": {
   "display_name": "Python 3",
   "language": "python",
   "name": "python3"
  },
  "language_info": {
   "codemirror_mode": {
    "name": "ipython",
    "version": 3
   },
   "file_extension": ".py",
   "mimetype": "text/x-python",
   "name": "python",
   "nbconvert_exporter": "python",
   "pygments_lexer": "ipython3",
   "version": "3.5.1"
  }
 },
 "nbformat": 4,
 "nbformat_minor": 0
}
